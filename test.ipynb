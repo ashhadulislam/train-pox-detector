{
 "cells": [
  {
   "cell_type": "code",
   "execution_count": 5,
   "metadata": {},
   "outputs": [],
   "source": [
    "import torch\n",
    "import torchvision\n",
    "from torchvision import datasets, models, transforms\n",
    "import torch.nn as nn\n",
    "import torch.nn.functional as F\n",
    "import torch.optim as optim\n",
    "from torch.optim import lr_scheduler\n",
    "import torch.backends.cudnn as cudnn\n",
    "\n",
    "import numpy as np\n",
    "import time\n",
    "import os\n",
    "from PIL import Image\n",
    "import copy\n",
    "import validators\n",
    "\n",
    "from torchvision.datasets import ImageFolder\n",
    "from torch.utils.data import DataLoader, random_split\n",
    "from torchvision import transforms\n",
    "\n",
    "from PIL import Image\n",
    "import requests\n",
    "from io import BytesIO\n",
    "\n",
    "\n",
    "label_map={\n",
    "    0:\"Chickenpox\",\n",
    "    1:\"Measles\",\n",
    "    2:\"Monkeypox\",\n",
    "    3:\"Normal\"\n",
    "}\n",
    "classes = ('Chickenpox', 'Measles', 'Monkeypox', 'Normal')\n",
    "PATH = './resnet18_net.pth'\n",
    "device = torch.device('cuda' if torch.cuda.is_available() else 'cpu')\n",
    "data_transform = transforms.Compose([transforms.Grayscale(num_output_channels=1),\n",
    "                                     transforms.Resize((64,64)),\n",
    "                                     transforms.ToTensor()])"
   ]
  },
  {
   "cell_type": "code",
   "execution_count": 6,
   "metadata": {},
   "outputs": [],
   "source": [
    "def load_model():\n",
    "\t'''\n",
    "\tload a model \n",
    "\tby default it is resnet 18 for now\n",
    "\t'''\n",
    "\tmodel = models.resnet18(pretrained=True)\n",
    "\tnum_ftrs = model.fc.in_features\n",
    "\tmodel.fc = nn.Linear(num_ftrs, len(classes))\n",
    "\tmodel.to(device)\n",
    "\n",
    "\tmodel.load_state_dict(torch.load(PATH,map_location=device))\n",
    "\tmodel.eval()\n",
    "\treturn model\n",
    "\n"
   ]
  },
  {
   "cell_type": "code",
   "execution_count": 7,
   "metadata": {},
   "outputs": [],
   "source": [
    "def predict(model, image_url):\n",
    "\t'''\n",
    "\tpass the model and image url to the function\n",
    "\tReturns: a list of pox types with decreasing probability\n",
    "\t'''\n",
    "\tif validators.url(image_url) is True:\t\n",
    "\t\tresponse = requests.get(image_url)\t\t\n",
    "\t\tpicture = Image.open(BytesIO(response.content))\n",
    "\telse:\n",
    "\t\tpicture = Image.open(image_url)\n",
    "\t# Convert the image to grayscale and other transforms\n",
    "\timage = data_transform(picture)\n",
    "\t# store in a list of images\n",
    "\timages=image.reshape(1,1,64,64)\n",
    "\tnew_images = images.repeat(1, 3, 1, 1)\n",
    "\toutputs=model(new_images)\n",
    "\t# get prediction\n",
    "\t_, predicted = torch.max(outputs, 1)\n",
    "\tranked_labels=torch.argsort(outputs,1)[0]\n",
    "\t# get all classes in order of probability\n",
    "\tprobable_classes=[]\n",
    "\tfor label in ranked_labels:\n",
    "\t    probable_classes.append(classes[label.numpy()])\n",
    "\tprobable_classes.reverse()\n",
    "\treturn probable_classes"
   ]
  },
  {
   "cell_type": "code",
   "execution_count": 8,
   "metadata": {},
   "outputs": [
    {
     "name": "stdout",
     "output_type": "stream",
     "text": [
      "Model loaded\n",
      "['Normal', 'Monkeypox', 'Chickenpox', 'Measles'] should be normal\n",
      "['Normal', 'Chickenpox', 'Measles', 'Monkeypox'] should be normal\n"
     ]
    }
   ],
   "source": [
    "model=load_model()\n",
    "print(\"Model loaded\")\n",
    "# normal\n",
    "image_url=\"https://drive.google.com/uc?export=view&id=14sF_FaFvfYzrQCCQRX6IK87aBPFerfWb\"\n",
    "print(predict(model, image_url),\"should be normal\")\n",
    "\n",
    "image_url=\"data/Normal/normalgray_aug14.jpg\"\n",
    "print(predict(model, image_url),\"should be normal\")"
   ]
  }
 ],
 "metadata": {
  "kernelspec": {
   "display_name": "prune_kernel",
   "language": "python",
   "name": "prune_kernel"
  },
  "language_info": {
   "codemirror_mode": {
    "name": "ipython",
    "version": 3
   },
   "file_extension": ".py",
   "mimetype": "text/x-python",
   "name": "python",
   "nbconvert_exporter": "python",
   "pygments_lexer": "ipython3",
   "version": "3.8.11"
  }
 },
 "nbformat": 4,
 "nbformat_minor": 4
}
